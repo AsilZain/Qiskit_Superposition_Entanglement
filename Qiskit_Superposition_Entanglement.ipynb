{
  "cells": [
    {
      "cell_type": "markdown",
      "metadata": {
        "id": "X2W5OpxSv-y2"
      },
      "source": [
        "# Superposition and Entanglement in Qiskit\n",
        "This notebook demonstrates:\n",
        "1. **Superposition** using a single qubit.\n",
        "2. **Entanglement** using two qubits.\n",
        "We will use Qiskit to create circuits, visualize the states, and measure outcomes."
      ],
      "id": "X2W5OpxSv-y2"
    },
    {
      "cell_type": "code",
      "metadata": {
        "id": "NOQIWRacv-y3",
        "outputId": "9243fc45-d8e7-443e-fc8b-eb6b2bf0cd2f",
        "colab": {
          "base_uri": "https://localhost:8080/"
        }
      },
      "source": [
        "# ===========================\n",
        "# Install Qiskit, Aer and pylatexenc\n",
        "# ===========================\n",
        "!pip install qiskit\n",
        "!pip install qiskit-aer\n",
        "\n",
        "\n"
      ],
      "execution_count": 9,
      "outputs": [
        {
          "output_type": "stream",
          "name": "stdout",
          "text": [
            "Requirement already satisfied: qiskit in /usr/local/lib/python3.12/dist-packages (2.2.1)\n",
            "Requirement already satisfied: rustworkx>=0.15.0 in /usr/local/lib/python3.12/dist-packages (from qiskit) (0.17.1)\n",
            "Requirement already satisfied: numpy<3,>=1.17 in /usr/local/lib/python3.12/dist-packages (from qiskit) (2.0.2)\n",
            "Requirement already satisfied: scipy>=1.5 in /usr/local/lib/python3.12/dist-packages (from qiskit) (1.16.2)\n",
            "Requirement already satisfied: dill>=0.3 in /usr/local/lib/python3.12/dist-packages (from qiskit) (0.3.8)\n",
            "Requirement already satisfied: stevedore>=3.0.0 in /usr/local/lib/python3.12/dist-packages (from qiskit) (5.5.0)\n",
            "Requirement already satisfied: typing-extensions in /usr/local/lib/python3.12/dist-packages (from qiskit) (4.15.0)\n",
            "Requirement already satisfied: qiskit-aer in /usr/local/lib/python3.12/dist-packages (0.17.2)\n",
            "Requirement already satisfied: qiskit>=1.1.0 in /usr/local/lib/python3.12/dist-packages (from qiskit-aer) (2.2.1)\n",
            "Requirement already satisfied: numpy>=1.16.3 in /usr/local/lib/python3.12/dist-packages (from qiskit-aer) (2.0.2)\n",
            "Requirement already satisfied: scipy>=1.0 in /usr/local/lib/python3.12/dist-packages (from qiskit-aer) (1.16.2)\n",
            "Requirement already satisfied: psutil>=5 in /usr/local/lib/python3.12/dist-packages (from qiskit-aer) (5.9.5)\n",
            "Requirement already satisfied: python-dateutil>=2.8.0 in /usr/local/lib/python3.12/dist-packages (from qiskit-aer) (2.9.0.post0)\n",
            "Requirement already satisfied: six>=1.5 in /usr/local/lib/python3.12/dist-packages (from python-dateutil>=2.8.0->qiskit-aer) (1.17.0)\n",
            "Requirement already satisfied: rustworkx>=0.15.0 in /usr/local/lib/python3.12/dist-packages (from qiskit>=1.1.0->qiskit-aer) (0.17.1)\n",
            "Requirement already satisfied: dill>=0.3 in /usr/local/lib/python3.12/dist-packages (from qiskit>=1.1.0->qiskit-aer) (0.3.8)\n",
            "Requirement already satisfied: stevedore>=3.0.0 in /usr/local/lib/python3.12/dist-packages (from qiskit>=1.1.0->qiskit-aer) (5.5.0)\n",
            "Requirement already satisfied: typing-extensions in /usr/local/lib/python3.12/dist-packages (from qiskit>=1.1.0->qiskit-aer) (4.15.0)\n"
          ]
        }
      ],
      "id": "NOQIWRacv-y3"
    },
    {
      "cell_type": "code",
      "metadata": {
        "id": "4vIIe5A0v-y4"
      },
      "source": [
        "# ===========================\n",
        "# Import Libraries\n",
        "# ===========================\n",
        "from qiskit import QuantumCircuit,transpile\n",
        "from qiskit_aer import AerSimulator\n",
        "from qiskit.visualization import plot_histogram, plot_bloch_multivector\n",
        "from qiskit.quantum_info import Statevector\n",
        "import matplotlib.pyplot as plt\n"
      ],
      "execution_count": 19,
      "outputs": [],
      "id": "4vIIe5A0v-y4"
    },
    {
      "cell_type": "markdown",
      "metadata": {
        "id": "B_QEU5O6v-y4"
      },
      "source": [
        "## 1. Superposition Example"
      ],
      "id": "B_QEU5O6v-y4"
    },
    {
      "cell_type": "code",
      "metadata": {
        "id": "mPhcfNBxv-y5",
        "outputId": "425c114a-b295-4ebb-af9a-b09dd216d7d2",
        "colab": {
          "base_uri": "https://localhost:8080/",
          "height": 487
        }
      },
      "source": [
        "qc_super = QuantumCircuit(1, 1)\n",
        "qc_super.h(0)\n",
        "qc_super.measure(0, 0)\n",
        "\n",
        "# ✅ Create a copy of the circuit *before measurement* for the Bloch sphere\n",
        "qc_super_no_measure = QuantumCircuit(1)\n",
        "qc_super_no_measure.h(0)\n",
        "\n",
        "# Get the statevector for visualization\n",
        "sv = Statevector.from_instruction(qc_super_no_measure)\n",
        "print(\"Statevector after H on |0>:\", sv.data)\n",
        "\n",
        "# Plot Bloch sphere\n",
        "plot_bloch_multivector(sv)\n",
        "plt.title(\"Bloch Sphere: |+> state after Hadamard gate\")\n",
        "plt.show()\n",
        "\n",
        "# Simulate measurement results\n",
        "sim = AerSimulator()\n",
        "result = sim.run(qc_super, shots=1024).result()\n",
        "counts_super = result.get_counts()\n",
        "print(\"Measurement counts:\", counts_super)\n",
        "\n",
        "# Plot histogram\n",
        "plot_histogram(counts_super, title=\"Superposition (Hadamard) Measurement Results\")\n",
        "plt.show()"
      ],
      "execution_count": 15,
      "outputs": [
        {
          "output_type": "stream",
          "name": "stdout",
          "text": [
            "Statevector after H on |0>: [0.70710678+0.j 0.70710678+0.j]\n"
          ]
        },
        {
          "output_type": "display_data",
          "data": {
            "text/plain": [
              "<Figure size 640x480 with 1 Axes>"
            ],
            "image/png": "[encoded data removed]"
          },
          "metadata": {}
        },
        {
          "output_type": "stream",
          "name": "stdout",
          "text": [
            "Measurement counts: {'0': 522, '1': 502}\n"
          ]
        }
      ],
      "id": "mPhcfNBxv-y5"
    },
    {
      "cell_type": "markdown",
      "metadata": {
        "id": "PWL3wDZWv-y6"
      },
      "source": [
        "## 2. Entanglement Example"
      ],
      "id": "PWL3wDZWv-y6"
    },
    {
      "cell_type": "code",
      "metadata": {
        "id": "dj2F4Yswv-y6",
        "outputId": "090fe13d-fb07-4047-ca1c-556508bd77ae",
        "colab": {
          "base_uri": "https://localhost:8080/"
        }
      },
      "source": [
        "# Create a 2-qubit circuit\n",
        "qc_ent = QuantumCircuit(2, 2)\n",
        "qc_ent.h(0)\n",
        "qc_ent.cx(0, 1)\n",
        "qc_ent.measure([0, 1], [0, 1])\n",
        "\n",
        "# ✅ Create a copy without measurement for the statevector visualization\n",
        "qc_ent_no_measure = QuantumCircuit(2)\n",
        "qc_ent_no_measure.h(0)\n",
        "qc_ent_no_measure.cx(0, 1)\n",
        "\n",
        "# Compute the statevector of the Bell state (|00⟩ + |11⟩)/√2\n",
        "sv_ent = Statevector.from_instruction(qc_ent_no_measure)\n",
        "print(\"Statevector for Bell state (|00> + |11>)/√2:\\n\", sv_ent.data)\n",
        "\n",
        "# Simulate measurements with AerSimulator\n",
        "sim = AerSimulator()\n",
        "tq_ent = transpile(qc_ent, sim)\n",
        "result_ent = sim.run(tq_ent, shots=2048).result()\n",
        "counts_ent = result_ent.get_counts()\n",
        "\n",
        "# Print and plot results\n",
        "print(\"Measurement counts:\", counts_ent)\n",
        "plot_histogram(counts_ent, title=\"Entanglement (Bell State) Results — correlated 00 and 11\")\n",
        "plt.show()"
      ],
      "execution_count": 20,
      "outputs": [
        {
          "output_type": "stream",
          "name": "stdout",
          "text": [
            "Statevector for Bell state (|00> + |11>)/√2:\n",
            " [0.70710678+0.j 0.        +0.j 0.        +0.j 0.70710678+0.j]\n",
            "Measurement counts: {'00': 1023, '11': 1025}\n"
          ]
        }
      ],
      "id": "dj2F4Yswv-y6"
    }
  ],
  "metadata": {
    "kernelspec": {
      "display_name": "Python 3",
      "language": "python",
      "name": "python3"
    },
    "language_info": {
      "name": "python",
      "version": "3.10"
    },
    "colab": {
      "provenance": []
    }
  },
  "nbformat": 4,
  "nbformat_minor": 5
}